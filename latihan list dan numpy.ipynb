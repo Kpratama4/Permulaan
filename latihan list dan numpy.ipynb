{
 "cells": [
  {
   "cell_type": "markdown",
   "id": "deca7e5e-1e99-457c-969b-e5cc4cdf11eb",
   "metadata": {},
   "source": [
    "# Latihan List"
   ]
  },
  {
   "cell_type": "markdown",
   "id": "a27ee36e-1b0d-458e-98bf-fa971a755ea9",
   "metadata": {},
   "source": [
    "## Membuat list\n",
    "\n",
    "* 1. Buatlah list dengan value 10 sampai 15. Simpan ke dalam variable dengan nama *my_list*\n",
    "* 2. Buatlah list dengan range 100 hingga 150 dengan interval 5. SImpan ke dalam variable dengan nama *my_list_2*"
   ]
  },
  {
   "cell_type": "code",
   "execution_count": 51,
   "id": "ffdafee0-1a2e-4eff-817f-a096a95da6bf",
   "metadata": {},
   "outputs": [
    {
     "data": {
      "text/plain": [
       "[10, 11, 12, 13, 14, 15]"
      ]
     },
     "execution_count": 51,
     "metadata": {},
     "output_type": "execute_result"
    }
   ],
   "source": [
    "my_list= list(range(10,16))\n",
    "my_list"
   ]
  },
  {
   "cell_type": "code",
   "execution_count": 52,
   "id": "9582a562-30e5-4e62-b378-9d67d170ec93",
   "metadata": {},
   "outputs": [
    {
     "data": {
      "text/plain": [
       "[100, 105, 110, 115, 120, 125, 130, 135, 140, 145, 150]"
      ]
     },
     "execution_count": 52,
     "metadata": {},
     "output_type": "execute_result"
    }
   ],
   "source": [
    "my_list_2= list(range(100,151,5))\n",
    "\n",
    "my_list_2"
   ]
  },
  {
   "cell_type": "markdown",
   "id": "30603e41-6c15-4df8-b50a-0382bb302b01",
   "metadata": {},
   "source": [
    "*hint*"
   ]
  },
  {
   "cell_type": "code",
   "execution_count": 53,
   "id": "59c9a1c4-4234-437a-a003-20b042239e6c",
   "metadata": {
    "jupyter": {
     "source_hidden": true
    },
    "tags": []
   },
   "outputs": [
    {
     "data": {
      "text/plain": [
       "[10, 11, 12, 13, 14, 15]"
      ]
     },
     "execution_count": 53,
     "metadata": {},
     "output_type": "execute_result"
    }
   ],
   "source": [
    "# Jawaban no. 1\n",
    "\n",
    "my_list = [10, 11, 12, 13, 14, 15]\n",
    "\n",
    "#atau\n",
    "\n",
    "my_list = list(range(10, 16 ))\n",
    "\n",
    "my_list"
   ]
  },
  {
   "cell_type": "code",
   "execution_count": 54,
   "id": "8df0e78a-bd21-4c62-aad6-e2a7deada6c9",
   "metadata": {
    "jupyter": {
     "source_hidden": true
    },
    "tags": []
   },
   "outputs": [
    {
     "data": {
      "text/plain": [
       "[100, 105, 110, 115, 120, 125, 130, 135, 140, 145, 150]"
      ]
     },
     "execution_count": 54,
     "metadata": {},
     "output_type": "execute_result"
    }
   ],
   "source": [
    "# Jawaban no. 2\n",
    "\n",
    "my_list_2 = list(range(100, 151, 5))\n",
    "my_list_2"
   ]
  },
  {
   "cell_type": "markdown",
   "id": "acf55845-3a8f-49e1-b383-32e4ea658306",
   "metadata": {},
   "source": [
    "## Subsetting & Slicing list\n",
    "\n",
    "* 1. dari my_list, pilih angka 13 dengan metode subsetting\n",
    "* 2. dari my_list, pilih angka 14 dengan metode subsetting\n",
    "* 3. dari my_list_2, pilih angka dari 120 hingga 145 dengan metode slicing\n",
    "* 4. dari my_list_2, pilih angka dari 150 hingga 125 dengan metode slicing"
   ]
  },
  {
   "cell_type": "code",
   "execution_count": 55,
   "id": "3b02630d-3548-4046-8f9f-212924c815b8",
   "metadata": {},
   "outputs": [
    {
     "data": {
      "text/plain": [
       "13"
      ]
     },
     "execution_count": 55,
     "metadata": {},
     "output_type": "execute_result"
    }
   ],
   "source": [
    "my_list[3]"
   ]
  },
  {
   "cell_type": "code",
   "execution_count": 56,
   "id": "7228467c-cf27-47f6-994f-d425a5aa0ba7",
   "metadata": {},
   "outputs": [
    {
     "data": {
      "text/plain": [
       "14"
      ]
     },
     "execution_count": 56,
     "metadata": {},
     "output_type": "execute_result"
    }
   ],
   "source": [
    "my_list[-2]"
   ]
  },
  {
   "cell_type": "code",
   "execution_count": 57,
   "id": "2d3fcaa3-03c6-4b24-b596-cdc09ad9345e",
   "metadata": {},
   "outputs": [
    {
     "data": {
      "text/plain": [
       "[120, 125, 130, 135, 140, 145]"
      ]
     },
     "execution_count": 57,
     "metadata": {},
     "output_type": "execute_result"
    }
   ],
   "source": [
    "my_list_2[4:-1]"
   ]
  },
  {
   "cell_type": "code",
   "execution_count": 58,
   "id": "3cc13204-ab81-4994-ac8d-2eefafb4f364",
   "metadata": {},
   "outputs": [
    {
     "data": {
      "text/plain": [
       "[125, 130, 135, 140, 145, 150]"
      ]
     },
     "execution_count": 58,
     "metadata": {},
     "output_type": "execute_result"
    }
   ],
   "source": [
    "my_list_2[5:]"
   ]
  },
  {
   "cell_type": "markdown",
   "id": "a100afda-3d7e-4dcc-8c40-1201b0d3f3f8",
   "metadata": {},
   "source": [
    "*hint*"
   ]
  },
  {
   "cell_type": "code",
   "execution_count": 59,
   "id": "46a6e152-477d-4cc2-adf3-3b07307204e5",
   "metadata": {
    "jupyter": {
     "source_hidden": true
    },
    "tags": []
   },
   "outputs": [
    {
     "data": {
      "text/plain": [
       "13"
      ]
     },
     "execution_count": 59,
     "metadata": {},
     "output_type": "execute_result"
    }
   ],
   "source": [
    "# Jawaban no. 1\n",
    "\n",
    "my_list[3]"
   ]
  },
  {
   "cell_type": "code",
   "execution_count": 60,
   "id": "34fa4927-efe6-45c7-9b8f-ca474c8d39ba",
   "metadata": {
    "jupyter": {
     "source_hidden": true
    },
    "tags": []
   },
   "outputs": [
    {
     "data": {
      "text/plain": [
       "14"
      ]
     },
     "execution_count": 60,
     "metadata": {},
     "output_type": "execute_result"
    }
   ],
   "source": [
    "# Jawaban no. 2\n",
    "my_list[-2]\n",
    "\n",
    "# atau\n",
    "\n",
    "my_list[4]"
   ]
  },
  {
   "cell_type": "code",
   "execution_count": 61,
   "id": "9b4724c0-bee9-47eb-8a2a-24998b346aa0",
   "metadata": {
    "jupyter": {
     "source_hidden": true
    },
    "tags": []
   },
   "outputs": [
    {
     "data": {
      "text/plain": [
       "[120, 125, 130, 135, 140, 145]"
      ]
     },
     "execution_count": 61,
     "metadata": {},
     "output_type": "execute_result"
    }
   ],
   "source": [
    "# Jawaban no. 3\n",
    "my_list_2[4:10]"
   ]
  },
  {
   "cell_type": "code",
   "execution_count": 62,
   "id": "ee4468a4-cbcd-4709-8a68-c14889fc0434",
   "metadata": {
    "jupyter": {
     "source_hidden": true
    },
    "tags": []
   },
   "outputs": [
    {
     "data": {
      "text/plain": [
       "[125, 130, 135, 140, 145, 150]"
      ]
     },
     "execution_count": 62,
     "metadata": {},
     "output_type": "execute_result"
    }
   ],
   "source": [
    "# Jawaban no. 4\n",
    "my_list_2[5:]"
   ]
  },
  {
   "cell_type": "markdown",
   "id": "f55d718c-b68a-4856-8927-eb419c6e1555",
   "metadata": {},
   "source": [
    "## Manipulasi list\n",
    "\n",
    "* 1. Gabungkan (concatenate) my_list dan my_list_2, dan simpan menjadi my_list_3\n",
    "* 2. Ganti angka 100 pada my_list_3 dengan 1000\n",
    "* 3. Tambahkan nilai 155 sebagai element terakhir pada my_list_3 \n",
    "* 4. Tambahkan nilai 1500 pada index ke-4 di my_list_3\n",
    "* 5. sorting nilai yang ada pada my_list_3, dari terbesar ke terkecil (descending)\n",
    "* 6. Hapus element terakhir yang ada pada my_list_3\n",
    "* 7. Hapus nilai 1000 dan 1500 dari my_list_3\n",
    "* 8. Cek ada berapa panjang element pada my_list_3?"
   ]
  },
  {
   "cell_type": "code",
   "execution_count": 63,
   "id": "d4f4cb69-2254-4589-a635-7466b4321a6f",
   "metadata": {},
   "outputs": [
    {
     "data": {
      "text/plain": [
       "[10, 11, 12, 13, 14, 15, 100, 105, 110, 115, 120, 125, 130, 135, 140, 145, 150]"
      ]
     },
     "execution_count": 63,
     "metadata": {},
     "output_type": "execute_result"
    }
   ],
   "source": [
    "my_list_3=my_list+my_list_2\n",
    "my_list_3"
   ]
  },
  {
   "cell_type": "code",
   "execution_count": 64,
   "id": "998b9248-466f-4e7e-adb4-a0d684f240fd",
   "metadata": {},
   "outputs": [
    {
     "data": {
      "text/plain": [
       "[10,\n",
       " 11,\n",
       " 12,\n",
       " 13,\n",
       " 14,\n",
       " 15,\n",
       " 1000,\n",
       " 105,\n",
       " 110,\n",
       " 115,\n",
       " 120,\n",
       " 125,\n",
       " 130,\n",
       " 135,\n",
       " 140,\n",
       " 145,\n",
       " 150]"
      ]
     },
     "execution_count": 64,
     "metadata": {},
     "output_type": "execute_result"
    }
   ],
   "source": [
    "my_list_3[6]= 1000\n",
    "my_list_3"
   ]
  },
  {
   "cell_type": "code",
   "execution_count": 65,
   "id": "c9e37a1d-3217-4f27-894d-7a09689216b9",
   "metadata": {},
   "outputs": [
    {
     "data": {
      "text/plain": [
       "[10,\n",
       " 11,\n",
       " 12,\n",
       " 13,\n",
       " 14,\n",
       " 15,\n",
       " 1000,\n",
       " 105,\n",
       " 110,\n",
       " 115,\n",
       " 120,\n",
       " 125,\n",
       " 130,\n",
       " 135,\n",
       " 140,\n",
       " 145,\n",
       " 150,\n",
       " 155]"
      ]
     },
     "execution_count": 65,
     "metadata": {},
     "output_type": "execute_result"
    }
   ],
   "source": [
    "my_list_3.append(155)\n",
    "my_list_3"
   ]
  },
  {
   "cell_type": "code",
   "execution_count": 66,
   "id": "7b7b09ac-0cfd-465c-b692-354d0a113185",
   "metadata": {},
   "outputs": [
    {
     "data": {
      "text/plain": [
       "[10,\n",
       " 11,\n",
       " 12,\n",
       " 13,\n",
       " 1500,\n",
       " 14,\n",
       " 15,\n",
       " 1000,\n",
       " 105,\n",
       " 110,\n",
       " 115,\n",
       " 120,\n",
       " 125,\n",
       " 130,\n",
       " 135,\n",
       " 140,\n",
       " 145,\n",
       " 150,\n",
       " 155]"
      ]
     },
     "execution_count": 66,
     "metadata": {},
     "output_type": "execute_result"
    }
   ],
   "source": [
    "my_list_3.insert(4,1500)\n",
    "my_list_3"
   ]
  },
  {
   "cell_type": "code",
   "execution_count": 67,
   "id": "7c6c7a3d-6a67-4ff8-aef8-f34281105d4e",
   "metadata": {},
   "outputs": [
    {
     "data": {
      "text/plain": [
       "[1500,\n",
       " 1000,\n",
       " 155,\n",
       " 150,\n",
       " 145,\n",
       " 140,\n",
       " 135,\n",
       " 130,\n",
       " 125,\n",
       " 120,\n",
       " 115,\n",
       " 110,\n",
       " 105,\n",
       " 15,\n",
       " 14,\n",
       " 13,\n",
       " 12,\n",
       " 11,\n",
       " 10]"
      ]
     },
     "execution_count": 67,
     "metadata": {},
     "output_type": "execute_result"
    }
   ],
   "source": [
    "my_list_3.sort(reverse=True)\n",
    "my_list_3"
   ]
  },
  {
   "cell_type": "code",
   "execution_count": 68,
   "id": "e770d499-51bc-4de2-9e00-59a5e219d367",
   "metadata": {},
   "outputs": [
    {
     "data": {
      "text/plain": [
       "[1500,\n",
       " 1000,\n",
       " 155,\n",
       " 150,\n",
       " 145,\n",
       " 140,\n",
       " 135,\n",
       " 130,\n",
       " 125,\n",
       " 120,\n",
       " 115,\n",
       " 110,\n",
       " 105,\n",
       " 15,\n",
       " 14,\n",
       " 13,\n",
       " 12,\n",
       " 11]"
      ]
     },
     "execution_count": 68,
     "metadata": {},
     "output_type": "execute_result"
    }
   ],
   "source": [
    "my_list_3.pop()\n",
    "my_list_3"
   ]
  },
  {
   "cell_type": "code",
   "execution_count": 70,
   "id": "2a99a13b-97d6-42c9-be23-7be3f45eb5c1",
   "metadata": {},
   "outputs": [
    {
     "data": {
      "text/plain": [
       "[155, 150, 145, 140, 135, 130, 125, 120, 115, 110, 105, 15, 14, 13, 12, 11]"
      ]
     },
     "execution_count": 70,
     "metadata": {},
     "output_type": "execute_result"
    }
   ],
   "source": [
    "my_list_3.remove(my_list_3[0])\n",
    "my_list_3\n",
    "my_list_3.remove(1000)\n",
    "my_list_3"
   ]
  },
  {
   "cell_type": "code",
   "execution_count": 71,
   "id": "620e8566-c22b-4927-bd37-6dac5c0b7337",
   "metadata": {},
   "outputs": [
    {
     "data": {
      "text/plain": [
       "16"
      ]
     },
     "execution_count": 71,
     "metadata": {},
     "output_type": "execute_result"
    }
   ],
   "source": [
    "len(my_list_3)"
   ]
  },
  {
   "cell_type": "markdown",
   "id": "c48d073f-6c3c-45f5-b57f-4267c6d6e746",
   "metadata": {},
   "source": [
    "*hint*"
   ]
  },
  {
   "cell_type": "code",
   "execution_count": 22,
   "id": "69e50966-bd44-4738-b8fe-a49f7056653a",
   "metadata": {
    "collapsed": true,
    "jupyter": {
     "outputs_hidden": true,
     "source_hidden": true
    },
    "tags": []
   },
   "outputs": [
    {
     "data": {
      "text/plain": [
       "[10, 11, 12, 13, 14, 15, 100, 105, 110, 115, 120, 125, 130, 135, 140, 145, 150]"
      ]
     },
     "execution_count": 22,
     "metadata": {},
     "output_type": "execute_result"
    }
   ],
   "source": [
    "# Jawaban no. 1\n",
    "\n",
    "my_list_3 = my_list + my_list_2\n",
    "my_list_3"
   ]
  },
  {
   "cell_type": "code",
   "execution_count": 23,
   "id": "7e4e6f07-73d0-4eb3-bf2f-3e4cd6830121",
   "metadata": {
    "collapsed": true,
    "jupyter": {
     "outputs_hidden": true,
     "source_hidden": true
    },
    "tags": []
   },
   "outputs": [
    {
     "data": {
      "text/plain": [
       "[10,\n",
       " 11,\n",
       " 12,\n",
       " 13,\n",
       " 14,\n",
       " 15,\n",
       " 1000,\n",
       " 105,\n",
       " 110,\n",
       " 115,\n",
       " 120,\n",
       " 125,\n",
       " 130,\n",
       " 135,\n",
       " 140,\n",
       " 145,\n",
       " 150]"
      ]
     },
     "execution_count": 23,
     "metadata": {},
     "output_type": "execute_result"
    }
   ],
   "source": [
    "# Jawaban no. 2\n",
    "my_list_3[6] = 1000\n",
    "my_list_3"
   ]
  },
  {
   "cell_type": "code",
   "execution_count": 24,
   "id": "cb4b5e01-3727-430d-b2c8-f16f15258133",
   "metadata": {
    "jupyter": {
     "source_hidden": true
    },
    "tags": []
   },
   "outputs": [],
   "source": [
    "# Jawaban no. 3\n",
    "my_list_3.append(155)\n",
    "my_list_3"
   ]
  },
  {
   "cell_type": "code",
   "execution_count": 25,
   "id": "7f310db6-5acd-4242-bb7b-f9800a0bd71e",
   "metadata": {
    "collapsed": true,
    "jupyter": {
     "outputs_hidden": true,
     "source_hidden": true
    },
    "tags": []
   },
   "outputs": [
    {
     "data": {
      "text/plain": [
       "[10,\n",
       " 11,\n",
       " 12,\n",
       " 13,\n",
       " 1500,\n",
       " 14,\n",
       " 15,\n",
       " 1000,\n",
       " 105,\n",
       " 110,\n",
       " 115,\n",
       " 120,\n",
       " 125,\n",
       " 130,\n",
       " 135,\n",
       " 140,\n",
       " 145,\n",
       " 150,\n",
       " 155]"
      ]
     },
     "execution_count": 25,
     "metadata": {},
     "output_type": "execute_result"
    }
   ],
   "source": [
    "# Jawaban no. 4\n",
    "my_list_3.insert(4, 1500)\n",
    "my_list_3"
   ]
  },
  {
   "cell_type": "code",
   "execution_count": 28,
   "id": "da8c349c-c2ab-4866-a59b-0dfc481ee9e2",
   "metadata": {
    "collapsed": true,
    "jupyter": {
     "outputs_hidden": true,
     "source_hidden": true
    },
    "tags": []
   },
   "outputs": [
    {
     "data": {
      "text/plain": [
       "[1500,\n",
       " 1000,\n",
       " 155,\n",
       " 150,\n",
       " 145,\n",
       " 140,\n",
       " 135,\n",
       " 130,\n",
       " 125,\n",
       " 120,\n",
       " 115,\n",
       " 110,\n",
       " 105,\n",
       " 15,\n",
       " 14,\n",
       " 13,\n",
       " 12,\n",
       " 11,\n",
       " 10]"
      ]
     },
     "execution_count": 28,
     "metadata": {},
     "output_type": "execute_result"
    }
   ],
   "source": [
    "# Jawaban no. 5\n",
    "my_list_3.sort(reverse = True)\n",
    "my_list_3"
   ]
  },
  {
   "cell_type": "code",
   "execution_count": 29,
   "id": "902be667-12fb-4ac5-9cb6-0feba488a83e",
   "metadata": {
    "collapsed": true,
    "jupyter": {
     "outputs_hidden": true,
     "source_hidden": true
    },
    "tags": []
   },
   "outputs": [
    {
     "data": {
      "text/plain": [
       "[1500,\n",
       " 1000,\n",
       " 155,\n",
       " 150,\n",
       " 145,\n",
       " 140,\n",
       " 135,\n",
       " 130,\n",
       " 125,\n",
       " 120,\n",
       " 115,\n",
       " 110,\n",
       " 105,\n",
       " 15,\n",
       " 14,\n",
       " 13,\n",
       " 12,\n",
       " 11]"
      ]
     },
     "execution_count": 29,
     "metadata": {},
     "output_type": "execute_result"
    }
   ],
   "source": [
    "# Jawaban no. 6\n",
    "my_list_3.pop()\n",
    "my_list_3"
   ]
  },
  {
   "cell_type": "code",
   "execution_count": 30,
   "id": "39b2af9b-d20b-42fb-8ab8-48ac66732890",
   "metadata": {
    "collapsed": true,
    "jupyter": {
     "outputs_hidden": true,
     "source_hidden": true
    },
    "tags": []
   },
   "outputs": [
    {
     "data": {
      "text/plain": [
       "[155, 150, 145, 140, 135, 130, 125, 120, 115, 110, 105, 15, 14, 13, 12, 11]"
      ]
     },
     "execution_count": 30,
     "metadata": {},
     "output_type": "execute_result"
    }
   ],
   "source": [
    "# Jawaban no. 7\n",
    "my_list_3.remove(1000)\n",
    "my_list_3.remove(1500)\n",
    "my_list_3"
   ]
  },
  {
   "cell_type": "code",
   "execution_count": 31,
   "id": "2b2ff8f4-9a52-4a1f-9398-8dba52a993a1",
   "metadata": {
    "collapsed": true,
    "jupyter": {
     "outputs_hidden": true,
     "source_hidden": true
    },
    "tags": []
   },
   "outputs": [
    {
     "data": {
      "text/plain": [
       "16"
      ]
     },
     "execution_count": 31,
     "metadata": {},
     "output_type": "execute_result"
    }
   ],
   "source": [
    "len(my_list_3)"
   ]
  },
  {
   "cell_type": "markdown",
   "id": "39be07f5-9302-44a6-b094-7792768cbf2a",
   "metadata": {
    "tags": []
   },
   "source": [
    "## List Operations\n",
    "Dari my_list_3, cari beberapa nilai di bawah ini:\n",
    "\n",
    "- Nilai minimum\n",
    "- Nilai maximum"
   ]
  },
  {
   "cell_type": "code",
   "execution_count": 72,
   "id": "75072aa3-82bf-4144-925a-b91f537ba54b",
   "metadata": {},
   "outputs": [
    {
     "data": {
      "text/plain": [
       "11"
      ]
     },
     "execution_count": 72,
     "metadata": {},
     "output_type": "execute_result"
    }
   ],
   "source": [
    "min(my_list_3)"
   ]
  },
  {
   "cell_type": "code",
   "execution_count": 73,
   "id": "5b732a00-fcdf-4ffe-a31c-481c27e0f096",
   "metadata": {},
   "outputs": [
    {
     "data": {
      "text/plain": [
       "155"
      ]
     },
     "execution_count": 73,
     "metadata": {},
     "output_type": "execute_result"
    }
   ],
   "source": [
    "max(my_list_3)"
   ]
  },
  {
   "cell_type": "markdown",
   "id": "9646dd94-27d4-4c67-9fc4-019e03f239ad",
   "metadata": {},
   "source": [
    "*hint*"
   ]
  },
  {
   "cell_type": "code",
   "execution_count": 33,
   "id": "7555df9b-8a04-4ec6-ad2b-14c54ec529bc",
   "metadata": {
    "collapsed": true,
    "jupyter": {
     "outputs_hidden": true,
     "source_hidden": true
    },
    "tags": []
   },
   "outputs": [
    {
     "data": {
      "text/plain": [
       "11"
      ]
     },
     "execution_count": 33,
     "metadata": {},
     "output_type": "execute_result"
    }
   ],
   "source": [
    "min(my_list_3)"
   ]
  },
  {
   "cell_type": "code",
   "execution_count": 34,
   "id": "e5659bbb-2295-4675-b8c9-f02867920e06",
   "metadata": {
    "collapsed": true,
    "jupyter": {
     "outputs_hidden": true,
     "source_hidden": true
    },
    "tags": []
   },
   "outputs": [
    {
     "data": {
      "text/plain": [
       "155"
      ]
     },
     "execution_count": 34,
     "metadata": {},
     "output_type": "execute_result"
    }
   ],
   "source": [
    "max(my_list_3)"
   ]
  },
  {
   "cell_type": "markdown",
   "id": "a42485e1-20bd-4063-af00-dd1878a06f5b",
   "metadata": {},
   "source": [
    "# Latihan Numpy"
   ]
  },
  {
   "cell_type": "markdown",
   "id": "3ba5c75d-450c-4f65-ad4c-5678467d9f7f",
   "metadata": {},
   "source": [
    "## Membuat Numpy\n",
    "\n",
    "1. import numpy library as np\n",
    "2. Buatlah 1D array dengan value: 100, 200, 300, 400, 500. Simpan ke dalam variable dengan nama *my_array*\n",
    "3. Buatlah 1D array dengan range value dari 20 hingga 80, dengan interval 5. Simpan ke dalam variable dengan nama *my_array_2*\n",
    "4. Buatlah 1D array dengan value zero (0), dengan panjang element 5. Simpan ke dalam variable dengan nama *array_zero*\n",
    "4. Buatlah 1D array dengan value  (0), dengan panjang element 5. Simpan ke dalam variable dengan nama *array_one*\n",
    "4. Buatlah 1D array dengan bilangan desimal random antara 0 dan 1, dengan panjang element 8. Simpan ke dalam variable dengan nama *array_random*\n",
    "4. Buatlah 1D array dengan bilangan bulat random antara 10 dan 100, dengan panjang element 8. Simpan ke dalam variable dengan nama *array_integer*"
   ]
  },
  {
   "cell_type": "code",
   "execution_count": 82,
   "id": "a3291984-02c7-477f-aefc-3e00d27c8edd",
   "metadata": {},
   "outputs": [
    {
     "ename": "SyntaxError",
     "evalue": "invalid syntax (2403565453.py, line 1)",
     "output_type": "error",
     "traceback": [
      "\u001b[1;36m  Input \u001b[1;32mIn [82]\u001b[1;36m\u001b[0m\n\u001b[1;33m    pip install numpy\u001b[0m\n\u001b[1;37m        ^\u001b[0m\n\u001b[1;31mSyntaxError\u001b[0m\u001b[1;31m:\u001b[0m invalid syntax\n"
     ]
    }
   ],
   "source": [
    " import numpy as np"
   ]
  },
  {
   "cell_type": "code",
   "execution_count": 80,
   "id": "4c139849-279e-4b6e-afe7-40c6b7e5a2b1",
   "metadata": {},
   "outputs": [
    {
     "data": {
      "text/plain": [
       "array([100, 200, 300, 400, 500])"
      ]
     },
     "execution_count": 80,
     "metadata": {},
     "output_type": "execute_result"
    }
   ],
   "source": [
    "my_array= np.array([100,200,300,400,500])\n",
    "my_array"
   ]
  },
  {
   "cell_type": "code",
   "execution_count": 81,
   "id": "3f05a117-2f09-48fc-94fe-5b78aad1dd05",
   "metadata": {},
   "outputs": [
    {
     "ename": "AttributeError",
     "evalue": "module 'numpy' has no attribute 'arrange'",
     "output_type": "error",
     "traceback": [
      "\u001b[1;31m---------------------------------------------------------------------------\u001b[0m",
      "\u001b[1;31mAttributeError\u001b[0m                            Traceback (most recent call last)",
      "Input \u001b[1;32mIn [81]\u001b[0m, in \u001b[0;36m<cell line: 1>\u001b[1;34m()\u001b[0m\n\u001b[1;32m----> 1\u001b[0m my_array_2\u001b[38;5;241m=\u001b[39m\u001b[43mnp\u001b[49m\u001b[38;5;241;43m.\u001b[39;49m\u001b[43marrange\u001b[49m(\u001b[38;5;241m20\u001b[39m,\u001b[38;5;241m80\u001b[39m,\u001b[38;5;241m5\u001b[39m)\n",
      "File \u001b[1;32mC:\\Anaconda\\lib\\site-packages\\numpy\\__init__.py:313\u001b[0m, in \u001b[0;36m__getattr__\u001b[1;34m(attr)\u001b[0m\n\u001b[0;32m    310\u001b[0m     \u001b[38;5;28;01mfrom\u001b[39;00m \u001b[38;5;21;01m.\u001b[39;00m\u001b[38;5;21;01mtesting\u001b[39;00m \u001b[38;5;28;01mimport\u001b[39;00m Tester\n\u001b[0;32m    311\u001b[0m     \u001b[38;5;28;01mreturn\u001b[39;00m Tester\n\u001b[1;32m--> 313\u001b[0m \u001b[38;5;28;01mraise\u001b[39;00m \u001b[38;5;167;01mAttributeError\u001b[39;00m(\u001b[38;5;124m\"\u001b[39m\u001b[38;5;124mmodule \u001b[39m\u001b[38;5;132;01m{!r}\u001b[39;00m\u001b[38;5;124m has no attribute \u001b[39m\u001b[38;5;124m\"\u001b[39m\n\u001b[0;32m    314\u001b[0m                      \u001b[38;5;124m\"\u001b[39m\u001b[38;5;132;01m{!r}\u001b[39;00m\u001b[38;5;124m\"\u001b[39m\u001b[38;5;241m.\u001b[39mformat(\u001b[38;5;18m__name__\u001b[39m, attr))\n",
      "\u001b[1;31mAttributeError\u001b[0m: module 'numpy' has no attribute 'arrange'"
     ]
    }
   ],
   "source": [
    "my_array_2=np.arrange(20,80,5)"
   ]
  },
  {
   "cell_type": "code",
   "execution_count": null,
   "id": "ea4979c6-d613-4c58-a9a2-6878f8d59c83",
   "metadata": {},
   "outputs": [],
   "source": []
  },
  {
   "cell_type": "code",
   "execution_count": null,
   "id": "150fa964-51e1-4e26-87f4-ba4950f086dc",
   "metadata": {},
   "outputs": [],
   "source": []
  },
  {
   "cell_type": "code",
   "execution_count": null,
   "id": "f77f1638-d9d9-4746-9f37-6719119b97fa",
   "metadata": {},
   "outputs": [],
   "source": []
  },
  {
   "cell_type": "code",
   "execution_count": null,
   "id": "9e819c08-3550-44ef-b974-f0ba8419c2c4",
   "metadata": {},
   "outputs": [],
   "source": []
  },
  {
   "cell_type": "markdown",
   "id": "e839fb60-dc16-47ae-b2cb-60a0f5a2eb6a",
   "metadata": {},
   "source": [
    "*hint*"
   ]
  },
  {
   "cell_type": "code",
   "execution_count": 37,
   "id": "039438c5-303a-45a4-83b8-220c7c59e148",
   "metadata": {
    "jupyter": {
     "source_hidden": true
    },
    "tags": []
   },
   "outputs": [],
   "source": [
    "# Jawaban 1\n",
    "import numpy as np"
   ]
  },
  {
   "cell_type": "code",
   "execution_count": 38,
   "id": "7c8bf278-9ee9-44b7-b21c-77d1d3ef7ca4",
   "metadata": {
    "collapsed": true,
    "jupyter": {
     "outputs_hidden": true,
     "source_hidden": true
    },
    "tags": []
   },
   "outputs": [
    {
     "data": {
      "text/plain": [
       "array([100, 200, 300, 400, 500])"
      ]
     },
     "execution_count": 38,
     "metadata": {},
     "output_type": "execute_result"
    }
   ],
   "source": [
    "# Jawaban 2\n",
    "my_array = np.array([100, 200, 300, 400, 500])\n",
    "my_array"
   ]
  },
  {
   "cell_type": "code",
   "execution_count": 50,
   "id": "615fdfe2-32dc-4785-a09f-26d52fd48a28",
   "metadata": {
    "collapsed": true,
    "jupyter": {
     "outputs_hidden": true,
     "source_hidden": true
    },
    "tags": []
   },
   "outputs": [
    {
     "data": {
      "text/plain": [
       "array([20, 25, 30, 35, 40, 45, 50, 55, 60, 65, 70, 75])"
      ]
     },
     "execution_count": 50,
     "metadata": {},
     "output_type": "execute_result"
    }
   ],
   "source": [
    "# Jawaban 3\n",
    "my_array_2 = np.arange(20, 80, 5 )\n",
    "my_array_2"
   ]
  },
  {
   "cell_type": "code",
   "execution_count": 42,
   "id": "a8fed2b0-497f-4fd9-a839-a56df69f11fa",
   "metadata": {
    "collapsed": true,
    "jupyter": {
     "outputs_hidden": true,
     "source_hidden": true
    },
    "tags": []
   },
   "outputs": [
    {
     "data": {
      "text/plain": [
       "array([0., 0., 0., 0., 0.])"
      ]
     },
     "execution_count": 42,
     "metadata": {},
     "output_type": "execute_result"
    }
   ],
   "source": [
    "# Jawaban 4\n",
    "array_zero = np.zeros(5)\n",
    "array_zero"
   ]
  },
  {
   "cell_type": "code",
   "execution_count": 43,
   "id": "a25e2f01-8cbf-4def-a66f-64a1a73d58d6",
   "metadata": {
    "collapsed": true,
    "jupyter": {
     "outputs_hidden": true,
     "source_hidden": true
    },
    "tags": []
   },
   "outputs": [
    {
     "data": {
      "text/plain": [
       "array([1., 1., 1., 1., 1.])"
      ]
     },
     "execution_count": 43,
     "metadata": {},
     "output_type": "execute_result"
    }
   ],
   "source": [
    "# Jawaban 5\n",
    "array_one = np.ones(5)\n",
    "array_one"
   ]
  },
  {
   "cell_type": "code",
   "execution_count": 44,
   "id": "b8ed4467-8879-4928-adae-c12840a4a04f",
   "metadata": {
    "collapsed": true,
    "jupyter": {
     "outputs_hidden": true,
     "source_hidden": true
    },
    "tags": []
   },
   "outputs": [
    {
     "data": {
      "text/plain": [
       "array([0.30778015, 0.01035122, 0.33132446, 0.05425464, 0.02387717,\n",
       "       0.93840016, 0.02847023, 0.28684554])"
      ]
     },
     "execution_count": 44,
     "metadata": {},
     "output_type": "execute_result"
    }
   ],
   "source": [
    "# Jawaban 6\n",
    "array_random = np.random.rand(8)\n",
    "array_random"
   ]
  },
  {
   "cell_type": "code",
   "execution_count": 46,
   "id": "14467cdd-4866-4a07-91c8-2d565b4f159a",
   "metadata": {
    "collapsed": true,
    "jupyter": {
     "outputs_hidden": true,
     "source_hidden": true
    },
    "tags": []
   },
   "outputs": [
    {
     "data": {
      "text/plain": [
       "array([63, 50, 98, 79, 31, 24, 79, 23])"
      ]
     },
     "execution_count": 46,
     "metadata": {},
     "output_type": "execute_result"
    }
   ],
   "source": [
    "# Jawaban 7\n",
    "array_integer = np.random.randint(10, 100, size = 8)\n",
    "array_integer"
   ]
  },
  {
   "cell_type": "markdown",
   "id": "88be0922-e850-4a2b-a885-980ab842287c",
   "metadata": {},
   "source": [
    "## Shape, Reshape, subsetting & Slicing\n",
    "\n",
    "* 1. Check shape, size, dan dimensi dari my_array_2\n",
    "* 2. Reshape my_array_2 menjadi 2D, dengan proporsi 3 rows dan 4 columns. simpan ke dalam variable dengan nama **my_2d_array**\n",
    "* 3. Dari my_2d_array, pilih nilai 50 dan 70\n",
    "* 4. Dari my_2d_array, pilih nilai 75"
   ]
  },
  {
   "cell_type": "code",
   "execution_count": null,
   "id": "6fa522d7-8056-401e-8b79-bea8b128f0d1",
   "metadata": {},
   "outputs": [],
   "source": []
  },
  {
   "cell_type": "code",
   "execution_count": null,
   "id": "cd297a4a-6115-4939-a674-3a13fa023709",
   "metadata": {},
   "outputs": [],
   "source": []
  },
  {
   "cell_type": "code",
   "execution_count": null,
   "id": "d0a96636-449f-45fc-9e50-3d58762dc202",
   "metadata": {},
   "outputs": [],
   "source": []
  },
  {
   "cell_type": "code",
   "execution_count": null,
   "id": "75fa4286-c165-4f06-a12d-586a29381698",
   "metadata": {},
   "outputs": [],
   "source": []
  },
  {
   "cell_type": "markdown",
   "id": "19fa730b-96ce-473f-8778-e2ce1742d78f",
   "metadata": {},
   "source": [
    "*hint*"
   ]
  },
  {
   "cell_type": "code",
   "execution_count": 54,
   "id": "c6faae5b-5cf1-41a7-ba21-a1087a912c09",
   "metadata": {
    "collapsed": true,
    "jupyter": {
     "outputs_hidden": true,
     "source_hidden": true
    },
    "tags": []
   },
   "outputs": [
    {
     "name": "stdout",
     "output_type": "stream",
     "text": [
      "(12,)\n",
      "1\n",
      "12\n"
     ]
    }
   ],
   "source": [
    "# Jawaban no. 1\n",
    "print(my_array_2.shape)\n",
    "print(my_array_2.ndim)\n",
    "print(my_array_2.size)"
   ]
  },
  {
   "cell_type": "code",
   "execution_count": 60,
   "id": "cfd05fb0-0b79-4da6-b847-244669efa9d7",
   "metadata": {
    "collapsed": true,
    "jupyter": {
     "outputs_hidden": true,
     "source_hidden": true
    },
    "tags": []
   },
   "outputs": [
    {
     "data": {
      "text/plain": [
       "array([[20, 25, 30, 35],\n",
       "       [40, 45, 50, 55],\n",
       "       [60, 65, 70, 75]])"
      ]
     },
     "execution_count": 60,
     "metadata": {},
     "output_type": "execute_result"
    }
   ],
   "source": [
    "# Jawaban no. 2\n",
    "my_2d_array = np.reshape(my_array_2, newshape = (3, 4))\n",
    "my_2d_array"
   ]
  },
  {
   "cell_type": "code",
   "execution_count": 61,
   "id": "e84e8bed-5b23-40bb-983f-2bfd021b82fc",
   "metadata": {
    "collapsed": true,
    "jupyter": {
     "outputs_hidden": true,
     "source_hidden": true
    },
    "tags": []
   },
   "outputs": [
    {
     "data": {
      "text/plain": [
       "array([50, 70])"
      ]
     },
     "execution_count": 61,
     "metadata": {},
     "output_type": "execute_result"
    }
   ],
   "source": [
    "# Jawaban no. 4\n",
    "my_2d_array[1:3, 2]"
   ]
  },
  {
   "cell_type": "code",
   "execution_count": 62,
   "id": "08a540bc-efcf-425a-b7b4-ec92d537f196",
   "metadata": {
    "collapsed": true,
    "jupyter": {
     "outputs_hidden": true,
     "source_hidden": true
    },
    "tags": []
   },
   "outputs": [
    {
     "data": {
      "text/plain": [
       "75"
      ]
     },
     "execution_count": 62,
     "metadata": {},
     "output_type": "execute_result"
    }
   ],
   "source": [
    "# Jawaban no. 4\n",
    "my_2d_array[-1, -1]"
   ]
  },
  {
   "cell_type": "markdown",
   "id": "95514bdc-952f-433c-b6a6-afd407501fac",
   "metadata": {},
   "source": [
    "## Array Operations\n",
    "\n",
    "* 1. Tambahkan (*addition*) array_random dengan array_integer\n",
    "* 2. Kalikan setiap element yang ada pada array_random dengan 100\n",
    "* 3. dari my_2d_array cari nilai berikut: minimum, maximum, mean"
   ]
  },
  {
   "cell_type": "code",
   "execution_count": null,
   "id": "82dd5246-5a65-45bd-a213-4b2998c70bcd",
   "metadata": {},
   "outputs": [],
   "source": []
  },
  {
   "cell_type": "code",
   "execution_count": null,
   "id": "2a33181e-4cf2-4cd2-a650-a379b0f711f1",
   "metadata": {},
   "outputs": [],
   "source": []
  },
  {
   "cell_type": "code",
   "execution_count": null,
   "id": "6119543c-e86d-4755-93ea-b58a9b052835",
   "metadata": {},
   "outputs": [],
   "source": []
  },
  {
   "cell_type": "code",
   "execution_count": 64,
   "id": "54d67372-513f-4805-a5f5-ef344e42c224",
   "metadata": {
    "collapsed": true,
    "jupyter": {
     "outputs_hidden": true,
     "source_hidden": true
    },
    "tags": []
   },
   "outputs": [
    {
     "data": {
      "text/plain": [
       "array([63.30778015, 50.01035122, 98.33132446, 79.05425464, 31.02387717,\n",
       "       24.93840016, 79.02847023, 23.28684554])"
      ]
     },
     "execution_count": 64,
     "metadata": {},
     "output_type": "execute_result"
    }
   ],
   "source": [
    "# Jawaban no. 1\n",
    "\n",
    "array_random + array_integer"
   ]
  },
  {
   "cell_type": "code",
   "execution_count": 65,
   "id": "7d75da56-48e0-4440-91c9-61505a60f226",
   "metadata": {
    "collapsed": true,
    "jupyter": {
     "outputs_hidden": true,
     "source_hidden": true
    },
    "tags": []
   },
   "outputs": [
    {
     "data": {
      "text/plain": [
       "array([30.77801507,  1.03512187, 33.13244632,  5.4254641 ,  2.38771668,\n",
       "       93.84001597,  2.84702328, 28.68455355])"
      ]
     },
     "execution_count": 65,
     "metadata": {},
     "output_type": "execute_result"
    }
   ],
   "source": [
    "# Jawaban no. 2\n",
    "array_random * 100"
   ]
  },
  {
   "cell_type": "code",
   "execution_count": 71,
   "id": "13c91a4e-c4a1-4a01-8820-77c6bd33ef0b",
   "metadata": {
    "collapsed": true,
    "jupyter": {
     "outputs_hidden": true,
     "source_hidden": true
    },
    "tags": []
   },
   "outputs": [
    {
     "name": "stdout",
     "output_type": "stream",
     "text": [
      "20\n",
      "75\n",
      "47.5\n"
     ]
    }
   ],
   "source": [
    "# Jawaban no. 3\n",
    "print(my_2d_array.min())\n",
    "print(my_2d_array.max())\n",
    "print(my_2d_array.mean())"
   ]
  }
 ],
 "metadata": {
  "kernelspec": {
   "display_name": "Python 3 (ipykernel)",
   "language": "python",
   "name": "python3"
  },
  "language_info": {
   "codemirror_mode": {
    "name": "ipython",
    "version": 3
   },
   "file_extension": ".py",
   "mimetype": "text/x-python",
   "name": "python",
   "nbconvert_exporter": "python",
   "pygments_lexer": "ipython3",
   "version": "3.9.12"
  }
 },
 "nbformat": 4,
 "nbformat_minor": 5
}
